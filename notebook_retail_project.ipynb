{
 "cells": [
  {
   "cell_type": "markdown",
   "id": "7210cc55",
   "metadata": {},
   "source": [
    "```\n",
    "===================================================================\n",
    "Judul Project : \n",
    "Melakukan riset dan analisis data penjualan retail cabang untuk mendukung pengambilan keputusan strategis yang tepat guna meningkatkan profit\n",
    "\n",
    "By Rivaldi Revin\n",
    "===================================================================\n",
    "```"
   ]
  },
  {
   "cell_type": "markdown",
   "id": "a6283b6d",
   "metadata": {},
   "source": [
    "# **A. Problem Statement and Dataset Description**"
   ]
  },
  {
   "cell_type": "markdown",
   "id": "3f0d80d4",
   "metadata": {},
   "source": [
    "Latar Belakang :\n",
    "- Sebagai seorang Data Analyst yang ditugaskan oleh kantor pusat, saya memiliki tanggung jawab untuk melakukan riset mendalam terhadap kinerja penjualan pada salah satu cabang retail perusahaan. Penelitian ini bertujuan untuk mengidentifikasi tren penjualan, menganalisis pengaruh program diskon, melakukan segmentasi pelanggan, serta mengkaji peluang peningkatan strategi penjualan.\n",
    "- Fokus analisis mencakup evaluasi performa berdasarkan kategori produk, metode pembayaran yang digunakan, lokasi penjualan, serta hubungan antara pemberian diskon dan jumlah pembelian. Hasil riset ini diharapkan dapat memberikan landasan yang kuat bagi cabang retail dalam mengambil keputusan bisnis yang lebih tepat sasaran. Selain itu, penelitian ini juga diharapkan mampu membantu merancang strategi yang tidak hanya meningkatkan penjualan dalam jangka pendek, tetapi juga mendorong pertumbuhan pendapatan yang berkelanjutan dalam jangka panjang."
   ]
  },
  {
   "cell_type": "markdown",
   "id": "d8ed3c52",
   "metadata": {},
   "source": [
    "**SMART** \n",
    "1. `Specific` : Melaksanakan riset dan analisis komprehensif terhadap data penjualan pada retail cabang guna memberikan rekomendasi strategi penjualan yang tepat, dengan tujuan utama meningkatkan profit perusahaan.\n",
    "\n",
    "2. `Measurable` : Menetapkan target peningkatan profit sebesar 10% dibandingkan dengan periode penjualan sebelumnya, sebagai tolok ukur keberhasilan strategi yang diterapkan.\n",
    "\n",
    "3. `Achievable` : Melakukan analisis terhadap berbagai faktor yang memengaruhi kinerja penjualan, seperti tren penjualan, pengaruh program diskon, dan segmentasi pelanggan, dengan memanfaatkan data penjualan yang tersedia secara optimal.\n",
    "\n",
    "4. `Relevant` : Menggunakan hasil olahan data sebagai acuan utama dalam proses pengambilan keputusan dan penyusunan strategi penjualan, sehingga setiap langkah yang diambil selaras dengan tujuan peningkatan profit perusahaan.\n",
    "\n",
    "5. `Time-Bound` : Menetapkan jangka waktu pelaksanaan selama 6 bulan untuk mencapai target peningkatan profit tersebut.\n",
    "\n"
   ]
  },
  {
   "cell_type": "markdown",
   "id": "e53c7dfe",
   "metadata": {},
   "source": [
    "Kesimpulan :\n",
    "- Penelitian ini dilaksanakan untuk melakukan riset dan analisis mendalam terhadap data penjualan retail cabang dengan tujuan mendukung proses pengambilan keputusan strategis yang akurat dan efektif. Target yang ditetapkan adalah peningkatan profit sebesar 10% dibandingkan periode penjualan sebelumnya, dengan jangka waktu pencapaian selama 1 bulan. Analisis mencakup kajian terhadap faktor-faktor yang memengaruhi penjualan, antara lain tren penjualan, pengaruh program diskon, serta segmentasi pelanggan. Seluruh strategi peningkatan profit dirumuskan berdasarkan hasil pengolahan dan interpretasi data yang tersedia, sehingga diharapkan dapat memberikan dampak positif yang berkelanjutan bagi kinerja perusahaan."
   ]
  },
  {
   "cell_type": "markdown",
   "id": "414cd7b1",
   "metadata": {},
   "source": [
    "Problem statement : Melakukan riset dan analisis data penjualan retail cabang untuk mendukung pengambilan keputusan strategis yang tepat guna meningkatkan profit sebesar 10% dari periode sebelumnya dalam waktu 6 bulan. Analisis meliputi faktor-faktor seperti tren penjualan, pengaruh diskon, dan segmentasi pelanggan, dengan menggunakan data sebagai dasar untuk strategi peningkatan profit.\n",
    "\n",
    "Penjabaran masalah dengan metode 5W+1H :\n",
    "- Apa kategori produk yang banyak dibeli customer ?\n",
    "- Apa metode pembayaran yang paling banyak digunakan customer ?\n",
    "- Lokasi mana yang memiliki penjualan terbanyak ?\n",
    "- Bagaimana kondisi penjualan dari tahun ke tahun ?\n",
    "- Berapa potensi minimum dan maksimum penjualan yang didapat Retail Cabang ?\n",
    "- Apakah terdapat perbedaan yang signifikan pada ketiga kategori penerapan diskon ?"
   ]
  },
  {
   "cell_type": "markdown",
   "id": "b24f0137",
   "metadata": {},
   "source": [
    "---"
   ]
  },
  {
   "cell_type": "markdown",
   "id": "77d3b653",
   "metadata": {},
   "source": [
    "# **B. Data Loading**"
   ]
  },
  {
   "cell_type": "markdown",
   "id": "482be97b",
   "metadata": {},
   "source": [
    "- Data yang diambil berisikan info tentang transaksi-transaksi penjualan dari tahun 2022 sampai 2024 dari sebuah perusahaan retail\n",
    "- Data terdiri dari 11 kolom dan 12575 baris.\n",
    "- Kolom-kolom terdiri dari :\n",
    "    - [ Transaction ID ] : Nomor ID untuk transaksi\n",
    "    - [ Customer ID ] : Nomor ID untuk customer\n",
    "    - [ Category ] : Kategori dari produk-produk yang dijual\n",
    "    - [ Item ] : Nomor unik untuk mengindentifikasi suatu produk \n",
    "    - [ Price Per Unit ] : Informasi tentang harga per unit suatu produk\n",
    "    - [ Quantity ] : Jumlah produk yang dijual\n",
    "    - [ Total Spent ] : Total penjualan yang didapatkan \n",
    "    - [ Payment Method ] : Informasi tentang metode pembayaran yang digunakan\n",
    "    - [ Location ] : Informasi tentang lokasi terjadinya penjualan\n",
    "    - [ Transaction Date ] : Informasi tentang tanggal transaksi terjadi\n",
    "    - [ Discount Applied ] : Informasi tentang penerapan diskon dipenjualan\n",
    "- Sumber data :\n",
    "    - URL : https://www.kaggle.com/datasets/sayanpaul2004/retail-store-sales \n",
    "- Link Tableau :\n",
    "    - URL : https://public.tableau.com/app/profile/rivaldi.revin/viz/RetailStoreDashboardRR/Dashboard1?publish=yes\n",
    "\n"
   ]
  },
  {
   "cell_type": "code",
   "execution_count": null,
   "id": "cddd404f",
   "metadata": {},
   "outputs": [],
   "source": [
    "# Data manipulation and dataframe\n",
    "import numpy as np\n",
    "import pandas as pd\n",
    "from scipy import stats\n",
    "\n",
    "# Data visualization\n",
    "import seaborn as sns\n",
    "import matplotlib.pyplot as plt\n"
   ]
  },
  {
   "cell_type": "code",
   "execution_count": null,
   "id": "f4ba4692",
   "metadata": {},
   "outputs": [
    {
     "data": {
      "text/html": [
       "<div>\n",
       "<style scoped>\n",
       "    .dataframe tbody tr th:only-of-type {\n",
       "        vertical-align: middle;\n",
       "    }\n",
       "\n",
       "    .dataframe tbody tr th {\n",
       "        vertical-align: top;\n",
       "    }\n",
       "\n",
       "    .dataframe thead th {\n",
       "        text-align: right;\n",
       "    }\n",
       "</style>\n",
       "<table border=\"1\" class=\"dataframe\">\n",
       "  <thead>\n",
       "    <tr style=\"text-align: right;\">\n",
       "      <th></th>\n",
       "      <th>Transaction ID</th>\n",
       "      <th>Customer ID</th>\n",
       "      <th>Category</th>\n",
       "      <th>Item</th>\n",
       "      <th>Price Per Unit</th>\n",
       "      <th>Quantity</th>\n",
       "      <th>Total Spent</th>\n",
       "      <th>Payment Method</th>\n",
       "      <th>Location</th>\n",
       "      <th>Transaction Date</th>\n",
       "      <th>Discount Applied</th>\n",
       "    </tr>\n",
       "  </thead>\n",
       "  <tbody>\n",
       "    <tr>\n",
       "      <th>0</th>\n",
       "      <td>TXN_6867343</td>\n",
       "      <td>CUST_09</td>\n",
       "      <td>Patisserie</td>\n",
       "      <td>Item_10_PAT</td>\n",
       "      <td>18.5</td>\n",
       "      <td>10.0</td>\n",
       "      <td>185.0</td>\n",
       "      <td>Digital Wallet</td>\n",
       "      <td>Online</td>\n",
       "      <td>2024-04-08</td>\n",
       "      <td>True</td>\n",
       "    </tr>\n",
       "    <tr>\n",
       "      <th>1</th>\n",
       "      <td>TXN_3731986</td>\n",
       "      <td>CUST_22</td>\n",
       "      <td>Milk Products</td>\n",
       "      <td>Item_17_MILK</td>\n",
       "      <td>29.0</td>\n",
       "      <td>9.0</td>\n",
       "      <td>261.0</td>\n",
       "      <td>Digital Wallet</td>\n",
       "      <td>Online</td>\n",
       "      <td>2023-07-23</td>\n",
       "      <td>True</td>\n",
       "    </tr>\n",
       "    <tr>\n",
       "      <th>2</th>\n",
       "      <td>TXN_9303719</td>\n",
       "      <td>CUST_02</td>\n",
       "      <td>Butchers</td>\n",
       "      <td>Item_12_BUT</td>\n",
       "      <td>21.5</td>\n",
       "      <td>2.0</td>\n",
       "      <td>43.0</td>\n",
       "      <td>Credit Card</td>\n",
       "      <td>Online</td>\n",
       "      <td>2022-10-05</td>\n",
       "      <td>False</td>\n",
       "    </tr>\n",
       "    <tr>\n",
       "      <th>3</th>\n",
       "      <td>TXN_9458126</td>\n",
       "      <td>CUST_06</td>\n",
       "      <td>Beverages</td>\n",
       "      <td>Item_16_BEV</td>\n",
       "      <td>27.5</td>\n",
       "      <td>9.0</td>\n",
       "      <td>247.5</td>\n",
       "      <td>Credit Card</td>\n",
       "      <td>Online</td>\n",
       "      <td>2022-05-07</td>\n",
       "      <td>NaN</td>\n",
       "    </tr>\n",
       "    <tr>\n",
       "      <th>4</th>\n",
       "      <td>TXN_4575373</td>\n",
       "      <td>CUST_05</td>\n",
       "      <td>Food</td>\n",
       "      <td>Item_6_FOOD</td>\n",
       "      <td>12.5</td>\n",
       "      <td>7.0</td>\n",
       "      <td>87.5</td>\n",
       "      <td>Digital Wallet</td>\n",
       "      <td>Online</td>\n",
       "      <td>2022-10-02</td>\n",
       "      <td>False</td>\n",
       "    </tr>\n",
       "  </tbody>\n",
       "</table>\n",
       "</div>"
      ],
      "text/plain": [
       "  Transaction ID Customer ID       Category          Item  Price Per Unit  \\\n",
       "0    TXN_6867343     CUST_09     Patisserie   Item_10_PAT            18.5   \n",
       "1    TXN_3731986     CUST_22  Milk Products  Item_17_MILK            29.0   \n",
       "2    TXN_9303719     CUST_02       Butchers   Item_12_BUT            21.5   \n",
       "3    TXN_9458126     CUST_06      Beverages   Item_16_BEV            27.5   \n",
       "4    TXN_4575373     CUST_05           Food   Item_6_FOOD            12.5   \n",
       "\n",
       "   Quantity  Total Spent  Payment Method Location Transaction Date  \\\n",
       "0      10.0        185.0  Digital Wallet   Online       2024-04-08   \n",
       "1       9.0        261.0  Digital Wallet   Online       2023-07-23   \n",
       "2       2.0         43.0     Credit Card   Online       2022-10-05   \n",
       "3       9.0        247.5     Credit Card   Online       2022-05-07   \n",
       "4       7.0         87.5  Digital Wallet   Online       2022-10-02   \n",
       "\n",
       "  Discount Applied  \n",
       "0             True  \n",
       "1             True  \n",
       "2            False  \n",
       "3              NaN  \n",
       "4            False  "
      ]
     },
     "execution_count": 48,
     "metadata": {},
     "output_type": "execute_result"
    }
   ],
   "source": [
    "# Membuka data csv\n",
    "df = pd.read_csv('retail_dataset.csv')\n",
    "df.head()"
   ]
  },
  {
   "cell_type": "markdown",
   "id": "5a3425eb",
   "metadata": {},
   "source": [
    "- Untuk melihat data "
   ]
  },
  {
   "cell_type": "code",
   "execution_count": null,
   "id": "09624799",
   "metadata": {},
   "outputs": [
    {
     "data": {
      "text/plain": [
       "(12575, 11)"
      ]
     },
     "execution_count": 49,
     "metadata": {},
     "output_type": "execute_result"
    }
   ],
   "source": [
    "# Melihat baris dan kolom\n",
    "df.shape"
   ]
  },
  {
   "cell_type": "markdown",
   "id": "424c827f",
   "metadata": {},
   "source": [
    "- Untuk melihat dan mengetahui jumlah baris dan kolom pada data"
   ]
  },
  {
   "cell_type": "code",
   "execution_count": null,
   "id": "89945276",
   "metadata": {},
   "outputs": [
    {
     "data": {
      "text/html": [
       "<div>\n",
       "<style scoped>\n",
       "    .dataframe tbody tr th:only-of-type {\n",
       "        vertical-align: middle;\n",
       "    }\n",
       "\n",
       "    .dataframe tbody tr th {\n",
       "        vertical-align: top;\n",
       "    }\n",
       "\n",
       "    .dataframe thead th {\n",
       "        text-align: right;\n",
       "    }\n",
       "</style>\n",
       "<table border=\"1\" class=\"dataframe\">\n",
       "  <thead>\n",
       "    <tr style=\"text-align: right;\">\n",
       "      <th></th>\n",
       "      <th>Price Per Unit</th>\n",
       "      <th>Quantity</th>\n",
       "      <th>Total Spent</th>\n",
       "    </tr>\n",
       "  </thead>\n",
       "  <tbody>\n",
       "    <tr>\n",
       "      <th>count</th>\n",
       "      <td>11966.000000</td>\n",
       "      <td>11971.000000</td>\n",
       "      <td>11971.000000</td>\n",
       "    </tr>\n",
       "    <tr>\n",
       "      <th>mean</th>\n",
       "      <td>23.365912</td>\n",
       "      <td>5.536380</td>\n",
       "      <td>129.652577</td>\n",
       "    </tr>\n",
       "    <tr>\n",
       "      <th>std</th>\n",
       "      <td>10.743519</td>\n",
       "      <td>2.857883</td>\n",
       "      <td>94.750697</td>\n",
       "    </tr>\n",
       "    <tr>\n",
       "      <th>min</th>\n",
       "      <td>5.000000</td>\n",
       "      <td>1.000000</td>\n",
       "      <td>5.000000</td>\n",
       "    </tr>\n",
       "    <tr>\n",
       "      <th>25%</th>\n",
       "      <td>14.000000</td>\n",
       "      <td>3.000000</td>\n",
       "      <td>51.000000</td>\n",
       "    </tr>\n",
       "    <tr>\n",
       "      <th>50%</th>\n",
       "      <td>23.000000</td>\n",
       "      <td>6.000000</td>\n",
       "      <td>108.500000</td>\n",
       "    </tr>\n",
       "    <tr>\n",
       "      <th>75%</th>\n",
       "      <td>33.500000</td>\n",
       "      <td>8.000000</td>\n",
       "      <td>192.000000</td>\n",
       "    </tr>\n",
       "    <tr>\n",
       "      <th>max</th>\n",
       "      <td>41.000000</td>\n",
       "      <td>10.000000</td>\n",
       "      <td>410.000000</td>\n",
       "    </tr>\n",
       "  </tbody>\n",
       "</table>\n",
       "</div>"
      ],
      "text/plain": [
       "       Price Per Unit      Quantity   Total Spent\n",
       "count    11966.000000  11971.000000  11971.000000\n",
       "mean        23.365912      5.536380    129.652577\n",
       "std         10.743519      2.857883     94.750697\n",
       "min          5.000000      1.000000      5.000000\n",
       "25%         14.000000      3.000000     51.000000\n",
       "50%         23.000000      6.000000    108.500000\n",
       "75%         33.500000      8.000000    192.000000\n",
       "max         41.000000     10.000000    410.000000"
      ]
     },
     "execution_count": 50,
     "metadata": {},
     "output_type": "execute_result"
    }
   ],
   "source": [
    "# Untuk melihat deskripsi numerik\n",
    "df.describe()"
   ]
  },
  {
   "cell_type": "markdown",
   "id": "030b00e0",
   "metadata": {},
   "source": [
    "- Untuk melihat ringkasan data yang bertipe numerik"
   ]
  },
  {
   "cell_type": "code",
   "execution_count": null,
   "id": "b01a5f06",
   "metadata": {},
   "outputs": [
    {
     "data": {
      "text/html": [
       "<div>\n",
       "<style scoped>\n",
       "    .dataframe tbody tr th:only-of-type {\n",
       "        vertical-align: middle;\n",
       "    }\n",
       "\n",
       "    .dataframe tbody tr th {\n",
       "        vertical-align: top;\n",
       "    }\n",
       "\n",
       "    .dataframe thead th {\n",
       "        text-align: right;\n",
       "    }\n",
       "</style>\n",
       "<table border=\"1\" class=\"dataframe\">\n",
       "  <thead>\n",
       "    <tr style=\"text-align: right;\">\n",
       "      <th></th>\n",
       "      <th>Transaction ID</th>\n",
       "      <th>Customer ID</th>\n",
       "      <th>Category</th>\n",
       "      <th>Item</th>\n",
       "      <th>Payment Method</th>\n",
       "      <th>Location</th>\n",
       "      <th>Transaction Date</th>\n",
       "      <th>Discount Applied</th>\n",
       "    </tr>\n",
       "  </thead>\n",
       "  <tbody>\n",
       "    <tr>\n",
       "      <th>count</th>\n",
       "      <td>12575</td>\n",
       "      <td>12575</td>\n",
       "      <td>12575</td>\n",
       "      <td>11362</td>\n",
       "      <td>12575</td>\n",
       "      <td>12575</td>\n",
       "      <td>12575</td>\n",
       "      <td>8376</td>\n",
       "    </tr>\n",
       "    <tr>\n",
       "      <th>unique</th>\n",
       "      <td>12575</td>\n",
       "      <td>25</td>\n",
       "      <td>8</td>\n",
       "      <td>200</td>\n",
       "      <td>3</td>\n",
       "      <td>2</td>\n",
       "      <td>1114</td>\n",
       "      <td>2</td>\n",
       "    </tr>\n",
       "    <tr>\n",
       "      <th>top</th>\n",
       "      <td>TXN_2407494</td>\n",
       "      <td>CUST_05</td>\n",
       "      <td>Electric household essentials</td>\n",
       "      <td>Item_2_BEV</td>\n",
       "      <td>Cash</td>\n",
       "      <td>Online</td>\n",
       "      <td>2022-05-30</td>\n",
       "      <td>True</td>\n",
       "    </tr>\n",
       "    <tr>\n",
       "      <th>freq</th>\n",
       "      <td>1</td>\n",
       "      <td>544</td>\n",
       "      <td>1591</td>\n",
       "      <td>126</td>\n",
       "      <td>4310</td>\n",
       "      <td>6354</td>\n",
       "      <td>26</td>\n",
       "      <td>4219</td>\n",
       "    </tr>\n",
       "  </tbody>\n",
       "</table>\n",
       "</div>"
      ],
      "text/plain": [
       "       Transaction ID Customer ID                       Category        Item  \\\n",
       "count           12575       12575                          12575       11362   \n",
       "unique          12575          25                              8         200   \n",
       "top       TXN_2407494     CUST_05  Electric household essentials  Item_2_BEV   \n",
       "freq                1         544                           1591         126   \n",
       "\n",
       "       Payment Method Location Transaction Date Discount Applied  \n",
       "count           12575    12575            12575             8376  \n",
       "unique              3        2             1114                2  \n",
       "top              Cash   Online       2022-05-30             True  \n",
       "freq             4310     6354               26             4219  "
      ]
     },
     "execution_count": 51,
     "metadata": {},
     "output_type": "execute_result"
    }
   ],
   "source": [
    "# Untuk melihat deskripsi object\n",
    "df.describe(include='object')"
   ]
  },
  {
   "cell_type": "markdown",
   "id": "e027294b",
   "metadata": {},
   "source": [
    "- - Untuk melihat ringkasan data yang bertipe string"
   ]
  },
  {
   "cell_type": "code",
   "execution_count": null,
   "id": "3ca8f12b",
   "metadata": {},
   "outputs": [
    {
     "name": "stdout",
     "output_type": "stream",
     "text": [
      "<class 'pandas.core.frame.DataFrame'>\n",
      "RangeIndex: 12575 entries, 0 to 12574\n",
      "Data columns (total 11 columns):\n",
      " #   Column            Non-Null Count  Dtype  \n",
      "---  ------            --------------  -----  \n",
      " 0   Transaction ID    12575 non-null  object \n",
      " 1   Customer ID       12575 non-null  object \n",
      " 2   Category          12575 non-null  object \n",
      " 3   Item              11362 non-null  object \n",
      " 4   Price Per Unit    11966 non-null  float64\n",
      " 5   Quantity          11971 non-null  float64\n",
      " 6   Total Spent       11971 non-null  float64\n",
      " 7   Payment Method    12575 non-null  object \n",
      " 8   Location          12575 non-null  object \n",
      " 9   Transaction Date  12575 non-null  object \n",
      " 10  Discount Applied  8376 non-null   object \n",
      "dtypes: float64(3), object(8)\n",
      "memory usage: 1.1+ MB\n"
     ]
    }
   ],
   "source": [
    "# Menampilkan ringkasan dataframe\n",
    "df.info()"
   ]
  },
  {
   "cell_type": "markdown",
   "id": "10c89c3e",
   "metadata": {},
   "source": [
    "Result \n",
    "- Data terdiri dari 11 kolom dan 12575 baris\n",
    "- Ada beberapa kolom yang memiliki missing values\n",
    "- Setiap kolom sudah sesuai dengan tipe datanya masing-masing\n",
    "- Jumlah tipe data terdiri dari 8 objek dan 4 float"
   ]
  },
  {
   "cell_type": "markdown",
   "id": "e3003cf1",
   "metadata": {},
   "source": [
    "---"
   ]
  },
  {
   "cell_type": "markdown",
   "id": "adcb7af3",
   "metadata": {},
   "source": [
    "# **C. Data Cleaning**"
   ]
  },
  {
   "cell_type": "code",
   "execution_count": null,
   "id": "e30a42d4",
   "metadata": {},
   "outputs": [
    {
     "data": {
      "text/plain": [
       "Transaction ID         0\n",
       "Customer ID            0\n",
       "Category               0\n",
       "Item                1213\n",
       "Price Per Unit       609\n",
       "Quantity             604\n",
       "Total Spent          604\n",
       "Payment Method         0\n",
       "Location               0\n",
       "Transaction Date       0\n",
       "Discount Applied    4199\n",
       "dtype: int64"
      ]
     },
     "execution_count": 53,
     "metadata": {},
     "output_type": "execute_result"
    }
   ],
   "source": [
    "# Jumlah missing values dari setiap kolom \n",
    "df.isna().sum()"
   ]
  },
  {
   "cell_type": "markdown",
   "id": "3f849ce1",
   "metadata": {},
   "source": [
    "Result\n",
    "- Data ini terdiri dari 11 kolom dan 12575 baris\n",
    "- Ada missing value dikolom 'Item', 'Price Per Unit', 'Quantity', 'Total Spent' dan 'Discount Applied'               \n",
    "- Semua tipe data sudah sesuai\n",
    "- Kolom 'Item' ada missing values sebanyak 1213\n",
    "- Kolom 'Price Per Unit' ada missing values sebanyak 609\n",
    "- Kolom 'Quantity' ada missing values sebanyak 604\n",
    "- Kolom 'Total Spent' ada missing values sebanyak 604\n",
    "- Kolom 'Payment Method' ada missing values sebanyak 4199"
   ]
  },
  {
   "cell_type": "code",
   "execution_count": null,
   "id": "a7db1232",
   "metadata": {},
   "outputs": [],
   "source": [
    "# Mengisi missing values dengan 'unknown' dikolom 'Item'\n",
    "df['Item'] = df['Item'].fillna('unknown')"
   ]
  },
  {
   "cell_type": "markdown",
   "id": "944cef68",
   "metadata": {},
   "source": [
    "- Untuk mengisi missing values dengan 'unknown' pada kolom 'Item'"
   ]
  },
  {
   "cell_type": "code",
   "execution_count": null,
   "id": "577ed33f",
   "metadata": {},
   "outputs": [],
   "source": [
    "# Mengisi missing values dengan 'unknown' dikolom 'Discount Applied'\n",
    "df['Discount Applied'] = df['Discount Applied'].fillna('unknown')"
   ]
  },
  {
   "cell_type": "markdown",
   "id": "9aafb926",
   "metadata": {},
   "source": [
    "- Untuk mengisi missing values dengan 'unknown' pada kolom 'Discount Applied'"
   ]
  },
  {
   "cell_type": "code",
   "execution_count": 56,
   "id": "e39d41c8",
   "metadata": {},
   "outputs": [
    {
     "data": {
      "text/plain": [
       "Transaction ID        0\n",
       "Customer ID           0\n",
       "Category              0\n",
       "Item                  0\n",
       "Price Per Unit      609\n",
       "Quantity            604\n",
       "Total Spent         604\n",
       "Payment Method        0\n",
       "Location              0\n",
       "Transaction Date      0\n",
       "Discount Applied      0\n",
       "dtype: int64"
      ]
     },
     "execution_count": 56,
     "metadata": {},
     "output_type": "execute_result"
    }
   ],
   "source": [
    "df.isna().sum()"
   ]
  },
  {
   "cell_type": "markdown",
   "id": "f30d7347",
   "metadata": {},
   "source": [
    "- Info mengenai missing values yang sudah diperbaiki pada kolom 'Item' dan 'Discount Applied'"
   ]
  },
  {
   "cell_type": "code",
   "execution_count": null,
   "id": "e4782a10",
   "metadata": {},
   "outputs": [
    {
     "data": {
      "text/html": [
       "<div>\n",
       "<style scoped>\n",
       "    .dataframe tbody tr th:only-of-type {\n",
       "        vertical-align: middle;\n",
       "    }\n",
       "\n",
       "    .dataframe tbody tr th {\n",
       "        vertical-align: top;\n",
       "    }\n",
       "\n",
       "    .dataframe thead th {\n",
       "        text-align: right;\n",
       "    }\n",
       "</style>\n",
       "<table border=\"1\" class=\"dataframe\">\n",
       "  <thead>\n",
       "    <tr style=\"text-align: right;\">\n",
       "      <th></th>\n",
       "      <th>Transaction ID</th>\n",
       "      <th>Customer ID</th>\n",
       "      <th>Category</th>\n",
       "      <th>Item</th>\n",
       "      <th>Price Per Unit</th>\n",
       "      <th>Quantity</th>\n",
       "      <th>Total Spent</th>\n",
       "      <th>Payment Method</th>\n",
       "      <th>Location</th>\n",
       "      <th>Transaction Date</th>\n",
       "      <th>Discount Applied</th>\n",
       "    </tr>\n",
       "  </thead>\n",
       "  <tbody>\n",
       "    <tr>\n",
       "      <th>5</th>\n",
       "      <td>TXN_7482416</td>\n",
       "      <td>CUST_09</td>\n",
       "      <td>Patisserie</td>\n",
       "      <td>unknown</td>\n",
       "      <td>NaN</td>\n",
       "      <td>10.0</td>\n",
       "      <td>200.0</td>\n",
       "      <td>Credit Card</td>\n",
       "      <td>Online</td>\n",
       "      <td>2023-11-30</td>\n",
       "      <td>unknown</td>\n",
       "    </tr>\n",
       "    <tr>\n",
       "      <th>7</th>\n",
       "      <td>TXN_1372952</td>\n",
       "      <td>CUST_21</td>\n",
       "      <td>Furniture</td>\n",
       "      <td>unknown</td>\n",
       "      <td>33.5</td>\n",
       "      <td>NaN</td>\n",
       "      <td>NaN</td>\n",
       "      <td>Digital Wallet</td>\n",
       "      <td>In-store</td>\n",
       "      <td>2024-04-02</td>\n",
       "      <td>True</td>\n",
       "    </tr>\n",
       "    <tr>\n",
       "      <th>11</th>\n",
       "      <td>TXN_5422631</td>\n",
       "      <td>CUST_09</td>\n",
       "      <td>Milk Products</td>\n",
       "      <td>unknown</td>\n",
       "      <td>NaN</td>\n",
       "      <td>8.0</td>\n",
       "      <td>52.0</td>\n",
       "      <td>Digital Wallet</td>\n",
       "      <td>In-store</td>\n",
       "      <td>2025-01-12</td>\n",
       "      <td>True</td>\n",
       "    </tr>\n",
       "    <tr>\n",
       "      <th>15</th>\n",
       "      <td>TXN_1809665</td>\n",
       "      <td>CUST_14</td>\n",
       "      <td>Beverages</td>\n",
       "      <td>unknown</td>\n",
       "      <td>24.5</td>\n",
       "      <td>NaN</td>\n",
       "      <td>NaN</td>\n",
       "      <td>Credit Card</td>\n",
       "      <td>In-store</td>\n",
       "      <td>2022-05-11</td>\n",
       "      <td>unknown</td>\n",
       "    </tr>\n",
       "    <tr>\n",
       "      <th>17</th>\n",
       "      <td>TXN_9634894</td>\n",
       "      <td>CUST_15</td>\n",
       "      <td>Milk Products</td>\n",
       "      <td>unknown</td>\n",
       "      <td>NaN</td>\n",
       "      <td>10.0</td>\n",
       "      <td>275.0</td>\n",
       "      <td>Digital Wallet</td>\n",
       "      <td>Online</td>\n",
       "      <td>2022-04-17</td>\n",
       "      <td>unknown</td>\n",
       "    </tr>\n",
       "  </tbody>\n",
       "</table>\n",
       "</div>"
      ],
      "text/plain": [
       "   Transaction ID Customer ID       Category     Item  Price Per Unit  \\\n",
       "5     TXN_7482416     CUST_09     Patisserie  unknown             NaN   \n",
       "7     TXN_1372952     CUST_21      Furniture  unknown            33.5   \n",
       "11    TXN_5422631     CUST_09  Milk Products  unknown             NaN   \n",
       "15    TXN_1809665     CUST_14      Beverages  unknown            24.5   \n",
       "17    TXN_9634894     CUST_15  Milk Products  unknown             NaN   \n",
       "\n",
       "    Quantity  Total Spent  Payment Method  Location Transaction Date  \\\n",
       "5       10.0        200.0     Credit Card    Online       2023-11-30   \n",
       "7        NaN          NaN  Digital Wallet  In-store       2024-04-02   \n",
       "11       8.0         52.0  Digital Wallet  In-store       2025-01-12   \n",
       "15       NaN          NaN     Credit Card  In-store       2022-05-11   \n",
       "17      10.0        275.0  Digital Wallet    Online       2022-04-17   \n",
       "\n",
       "   Discount Applied  \n",
       "5           unknown  \n",
       "7              True  \n",
       "11             True  \n",
       "15          unknown  \n",
       "17          unknown  "
      ]
     },
     "execution_count": 57,
     "metadata": {},
     "output_type": "execute_result"
    }
   ],
   "source": [
    "# Menampilkan baris yang ada missing values\n",
    "df[df.isna().any(axis=1)].head()"
   ]
  },
  {
   "cell_type": "markdown",
   "id": "26b1b9a5",
   "metadata": {},
   "source": [
    "- Untuk mengecek dan menampilkan missing values pada semua kolom"
   ]
  },
  {
   "cell_type": "code",
   "execution_count": 58,
   "id": "60cb9cfc",
   "metadata": {},
   "outputs": [],
   "source": [
    "# Remove rows with any missing values\n",
    "df = df.dropna()"
   ]
  },
  {
   "cell_type": "markdown",
   "id": "bdbcb78d",
   "metadata": {},
   "source": [
    "- Dilakukannya remove row karena banyaknya mising value serta banyak row yang berisikan nilai kosong"
   ]
  },
  {
   "cell_type": "code",
   "execution_count": 59,
   "id": "442e7161",
   "metadata": {},
   "outputs": [
    {
     "name": "stdout",
     "output_type": "stream",
     "text": [
      "<class 'pandas.core.frame.DataFrame'>\n",
      "Index: 11362 entries, 0 to 12574\n",
      "Data columns (total 11 columns):\n",
      " #   Column            Non-Null Count  Dtype  \n",
      "---  ------            --------------  -----  \n",
      " 0   Transaction ID    11362 non-null  object \n",
      " 1   Customer ID       11362 non-null  object \n",
      " 2   Category          11362 non-null  object \n",
      " 3   Item              11362 non-null  object \n",
      " 4   Price Per Unit    11362 non-null  float64\n",
      " 5   Quantity          11362 non-null  float64\n",
      " 6   Total Spent       11362 non-null  float64\n",
      " 7   Payment Method    11362 non-null  object \n",
      " 8   Location          11362 non-null  object \n",
      " 9   Transaction Date  11362 non-null  object \n",
      " 10  Discount Applied  11362 non-null  object \n",
      "dtypes: float64(3), object(8)\n",
      "memory usage: 1.0+ MB\n"
     ]
    }
   ],
   "source": [
    "df.info()"
   ]
  },
  {
   "cell_type": "markdown",
   "id": "6f660b22",
   "metadata": {},
   "source": [
    "Result \n",
    "- Data yang sudah bersih, tidak ada lagi missing values dengan total 11 kolom dan 11362 baris"
   ]
  },
  {
   "cell_type": "markdown",
   "id": "6ba40731",
   "metadata": {},
   "source": [
    "---"
   ]
  },
  {
   "cell_type": "markdown",
   "id": "29b73d23",
   "metadata": {},
   "source": [
    "# **D. Exploration and Analysis**"
   ]
  },
  {
   "cell_type": "markdown",
   "id": "0192f788",
   "metadata": {},
   "source": [
    "## **D.1 EXPLORATION**"
   ]
  },
  {
   "cell_type": "markdown",
   "id": "9100c19e",
   "metadata": {},
   "source": [
    "### **D.1.1 - Task 1 : Apa kategori produk yang banyak dibeli customer ?**"
   ]
  },
  {
   "cell_type": "code",
   "execution_count": null,
   "id": "96e722e9",
   "metadata": {},
   "outputs": [
    {
     "data": {
      "text/plain": [
       "Customer ID\n",
       "CUST_05    497\n",
       "CUST_13    491\n",
       "CUST_24    489\n",
       "CUST_08    480\n",
       "CUST_15    478\n",
       "CUST_16    469\n",
       "CUST_09    465\n",
       "CUST_01    461\n",
       "CUST_10    458\n",
       "CUST_20    457\n",
       "CUST_22    456\n",
       "CUST_11    453\n",
       "CUST_12    452\n",
       "CUST_23    450\n",
       "CUST_02    447\n",
       "CUST_18    447\n",
       "CUST_14    447\n",
       "CUST_21    447\n",
       "CUST_06    443\n",
       "CUST_25    438\n",
       "CUST_07    433\n",
       "CUST_19    431\n",
       "CUST_04    428\n",
       "CUST_03    423\n",
       "CUST_17    422\n",
       "Name: count, dtype: int64"
      ]
     },
     "execution_count": 60,
     "metadata": {},
     "output_type": "execute_result"
    }
   ],
   "source": [
    "# Menampilkan jumlah pembelian kembali berdasarkan customer id\n",
    "df['Customer ID'].value_counts()"
   ]
  },
  {
   "cell_type": "markdown",
   "id": "a7d51616",
   "metadata": {},
   "source": [
    "- Untuk melihat dan mengecek berdasarkan customer di"
   ]
  },
  {
   "cell_type": "code",
   "execution_count": null,
   "id": "4977d452",
   "metadata": {},
   "outputs": [
    {
     "data": {
      "text/plain": [
       "np.float64(454.48)"
      ]
     },
     "execution_count": 61,
     "metadata": {},
     "output_type": "execute_result"
    }
   ],
   "source": [
    "# Menampilkan rata-rata dari jumlah pembelian kembali berdasarkan customer id\n",
    "df['Customer ID'].value_counts().mean()"
   ]
  },
  {
   "cell_type": "code",
   "execution_count": null,
   "id": "ebf08032",
   "metadata": {},
   "outputs": [
    {
     "data": {
      "text/plain": [
       "np.float64(452.0)"
      ]
     },
     "execution_count": 62,
     "metadata": {},
     "output_type": "execute_result"
    }
   ],
   "source": [
    "# Menampilkan median dari jumlah pembelian kembali berdasarkan customer id\n",
    "df['Customer ID'].value_counts().median()"
   ]
  },
  {
   "cell_type": "markdown",
   "id": "d7746196",
   "metadata": {},
   "source": [
    "- Nilai mean dan median hampir sama, ini menunjukkan customer cukup loyal kepada retail cabang"
   ]
  },
  {
   "cell_type": "code",
   "execution_count": null,
   "id": "d476d569",
   "metadata": {},
   "outputs": [
    {
     "data": {
      "text/plain": [
       "Category\n",
       "Beverages                             187978.5\n",
       "Butchers                              197426.0\n",
       "Computers and electric accessories    180902.5\n",
       "Electric household essentials         192441.5\n",
       "Food                                  184645.0\n",
       "Furniture                             186527.0\n",
       "Milk Products                         170747.5\n",
       "Patisserie                            172330.5\n",
       "Name: Total Spent, dtype: float64"
      ]
     },
     "execution_count": 63,
     "metadata": {},
     "output_type": "execute_result"
    }
   ],
   "source": [
    "# Menampilkan bar chart tentang penjualan berdasarkan kategori produk\n",
    "# Base datanya \n",
    "sales_category = df.groupby(['Category'])['Total Spent'].sum()\n",
    "\n",
    "sales_category"
   ]
  },
  {
   "cell_type": "code",
   "execution_count": null,
   "id": "051a143d",
   "metadata": {},
   "outputs": [
    {
     "data": {
      "image/png": "[encoded data removed]",
      "text/plain": [
       "<Figure size 2900x800 with 1 Axes>"
      ]
     },
     "metadata": {},
     "output_type": "display_data"
    }
   ],
   "source": [
    "# Set size\n",
    "plt.figure(figsize=(29,8))\n",
    "\n",
    "# Barchart using seaborn\n",
    "ax = sns.barplot(x=sales_category.values, y=sales_category.index, \n",
    "            hue=sales_category.index, palette='viridis')\n",
    "ax.bar_label(ax.containers[0], fontsize=15)\n",
    "ax.bar_label(ax.containers[1], fontsize=15)\n",
    "ax.bar_label(ax.containers[2], fontsize=15)\n",
    "ax.bar_label(ax.containers[3], fontsize=15)\n",
    "ax.bar_label(ax.containers[4], fontsize=15)\n",
    "ax.bar_label(ax.containers[5], fontsize=15)\n",
    "ax.bar_label(ax.containers[6], fontsize=15)\n",
    "ax.bar_label(ax.containers[7], fontsize=15)\n",
    "\n",
    "# Add detail\n",
    "plt.title('Sales by Product')\n",
    "plt.xlabel('Total Sales')\n",
    "plt.ylabel('Product Category')\n",
    "\n",
    "# Show data viz\n",
    "plt.show()"
   ]
  },
  {
   "cell_type": "markdown",
   "id": "310fcda5",
   "metadata": {},
   "source": [
    "Result\n",
    " - Penjualan terbanyak pertama berada dikategori produk Butchers, kedua ada Electric household essentials, dan ketiga ada Beverages "
   ]
  },
  {
   "cell_type": "markdown",
   "id": "93e011fb",
   "metadata": {},
   "source": [
    "---"
   ]
  },
  {
   "cell_type": "markdown",
   "id": "63f1d367",
   "metadata": {},
   "source": [
    "### **D.1.2 - Task 2 : Apa metode pembayaran yang paling banyak digunakan customer ?**"
   ]
  },
  {
   "cell_type": "code",
   "execution_count": null,
   "id": "50e438ca",
   "metadata": {},
   "outputs": [
    {
     "data": {
      "text/plain": [
       "Payment Method  Discount Applied\n",
       "Cash            unknown             1334\n",
       "                True                1322\n",
       "Digital Wallet  False               1281\n",
       "Cash            False               1261\n",
       "Credit Card     True                1255\n",
       "                unknown             1238\n",
       "                False               1236\n",
       "Digital Wallet  True                1224\n",
       "                unknown             1211\n",
       "Name: count, dtype: int64"
      ]
     },
     "execution_count": 65,
     "metadata": {},
     "output_type": "execute_result"
    }
   ],
   "source": [
    "# Menampilkan Payment Method para customer yang menggunakan diskonnya \n",
    "df[['Payment Method', 'Discount Applied']].value_counts()"
   ]
  },
  {
   "cell_type": "code",
   "execution_count": null,
   "id": "cdbc814e",
   "metadata": {},
   "outputs": [
    {
     "data": {
      "text/html": [
       "<div>\n",
       "<style scoped>\n",
       "    .dataframe tbody tr th:only-of-type {\n",
       "        vertical-align: middle;\n",
       "    }\n",
       "\n",
       "    .dataframe tbody tr th {\n",
       "        vertical-align: top;\n",
       "    }\n",
       "\n",
       "    .dataframe thead th {\n",
       "        text-align: right;\n",
       "    }\n",
       "</style>\n",
       "<table border=\"1\" class=\"dataframe\">\n",
       "  <thead>\n",
       "    <tr style=\"text-align: right;\">\n",
       "      <th></th>\n",
       "      <th>Payment Method</th>\n",
       "    </tr>\n",
       "    <tr>\n",
       "      <th>Payment Method</th>\n",
       "      <th></th>\n",
       "    </tr>\n",
       "  </thead>\n",
       "  <tbody>\n",
       "    <tr>\n",
       "      <th>Cash</th>\n",
       "      <td>3917</td>\n",
       "    </tr>\n",
       "    <tr>\n",
       "      <th>Credit Card</th>\n",
       "      <td>3729</td>\n",
       "    </tr>\n",
       "    <tr>\n",
       "      <th>Digital Wallet</th>\n",
       "      <td>3716</td>\n",
       "    </tr>\n",
       "  </tbody>\n",
       "</table>\n",
       "</div>"
      ],
      "text/plain": [
       "                Payment Method\n",
       "Payment Method                \n",
       "Cash                      3917\n",
       "Credit Card               3729\n",
       "Digital Wallet            3716"
      ]
     },
     "execution_count": 66,
     "metadata": {},
     "output_type": "execute_result"
    }
   ],
   "source": [
    "# Base data\n",
    "trx_payment = df.groupby('Payment Method').agg({'Payment Method':'count'})\n",
    "\n",
    "trx_payment"
   ]
  },
  {
   "cell_type": "code",
   "execution_count": 67,
   "id": "5579c477",
   "metadata": {},
   "outputs": [
    {
     "data": {
      "text/plain": [
       "array([[3917],\n",
       "       [3729],\n",
       "       [3716]])"
      ]
     },
     "execution_count": 67,
     "metadata": {},
     "output_type": "execute_result"
    }
   ],
   "source": [
    "trx_payment.values"
   ]
  },
  {
   "cell_type": "code",
   "execution_count": 68,
   "id": "db3d3d1a",
   "metadata": {},
   "outputs": [
    {
     "data": {
      "image/png": "[encoded data removed]",
      "text/plain": [
       "<Figure size 700x700 with 1 Axes>"
      ]
     },
     "metadata": {},
     "output_type": "display_data"
    }
   ],
   "source": [
    "# pie chart using pandas\n",
    "trx_payment.plot(kind='pie', y='Payment Method', figsize=(7,7), autopct='%1.2f%%')\n",
    "\n",
    "# show\n",
    "plt.show()"
   ]
  },
  {
   "cell_type": "markdown",
   "id": "f2b88a7b",
   "metadata": {},
   "source": [
    "Result\n",
    "- Payment Method yang paling banyak digunakan yaitu Cash dengan 34,47%, kedua Credit Card sebesar 32,82%, dan terakhir Digital Wallet sebesar 32,71%"
   ]
  },
  {
   "cell_type": "markdown",
   "id": "44fa91b5",
   "metadata": {},
   "source": [
    "---"
   ]
  },
  {
   "cell_type": "markdown",
   "id": "b04bab01",
   "metadata": {},
   "source": [
    "### **D.1.3 - Task 3 : Lokasi mana yang memiliki penjualan terbanyak ?**"
   ]
  },
  {
   "cell_type": "code",
   "execution_count": null,
   "id": "4d148cc2",
   "metadata": {},
   "outputs": [
    {
     "data": {
      "text/plain": [
       "Location\n",
       "Online      5745\n",
       "In-store    5617\n",
       "Name: count, dtype: int64"
      ]
     },
     "execution_count": 69,
     "metadata": {},
     "output_type": "execute_result"
    }
   ],
   "source": [
    "# Menampilkan perbandingan jumlah pembelian antara online dan In-store\n",
    "df['Location'].value_counts()"
   ]
  },
  {
   "cell_type": "code",
   "execution_count": null,
   "id": "9e47f800",
   "metadata": {},
   "outputs": [
    {
     "data": {
      "text/plain": [
       "Location  Category                          \n",
       "Online    Computers and electric accessories    745\n",
       "In-store  Furniture                             738\n",
       "Online    Electric household essentials         737\n",
       "          Furniture                             722\n",
       "          Beverages                             716\n",
       "          Milk Products                         716\n",
       "In-store  Food                                  713\n",
       "          Butchers                              713\n",
       "Online    Food                                  713\n",
       "In-store  Beverages                             711\n",
       "          Milk Products                         709\n",
       "Online    Butchers                              708\n",
       "In-store  Electric household essentials         700\n",
       "Online    Patisserie                            688\n",
       "In-store  Patisserie                            681\n",
       "          Computers and electric accessories    652\n",
       "Name: count, dtype: int64"
      ]
     },
     "execution_count": 70,
     "metadata": {},
     "output_type": "execute_result"
    }
   ],
   "source": [
    "# Menampilkan lokasi pembelian berdasarkan kategori  \n",
    "df[['Location', 'Category']].value_counts()"
   ]
  },
  {
   "cell_type": "code",
   "execution_count": null,
   "id": "a2b5a5dc",
   "metadata": {},
   "outputs": [
    {
     "data": {
      "text/html": [
       "<div>\n",
       "<style scoped>\n",
       "    .dataframe tbody tr th:only-of-type {\n",
       "        vertical-align: middle;\n",
       "    }\n",
       "\n",
       "    .dataframe tbody tr th {\n",
       "        vertical-align: top;\n",
       "    }\n",
       "\n",
       "    .dataframe thead th {\n",
       "        text-align: right;\n",
       "    }\n",
       "</style>\n",
       "<table border=\"1\" class=\"dataframe\">\n",
       "  <thead>\n",
       "    <tr style=\"text-align: right;\">\n",
       "      <th></th>\n",
       "      <th>Transaction ID</th>\n",
       "      <th>Customer ID</th>\n",
       "      <th>Category</th>\n",
       "      <th>Item</th>\n",
       "      <th>Price Per Unit</th>\n",
       "      <th>Quantity</th>\n",
       "      <th>Total Spent</th>\n",
       "      <th>Payment Method</th>\n",
       "      <th>Location</th>\n",
       "      <th>Transaction Date</th>\n",
       "      <th>Discount Applied</th>\n",
       "    </tr>\n",
       "  </thead>\n",
       "  <tbody>\n",
       "    <tr>\n",
       "      <th>8</th>\n",
       "      <td>TXN_9728486</td>\n",
       "      <td>CUST_23</td>\n",
       "      <td>Furniture</td>\n",
       "      <td>Item_16_FUR</td>\n",
       "      <td>27.5</td>\n",
       "      <td>1.0</td>\n",
       "      <td>27.5</td>\n",
       "      <td>Credit Card</td>\n",
       "      <td>In-store</td>\n",
       "      <td>2023-04-26</td>\n",
       "      <td>False</td>\n",
       "    </tr>\n",
       "    <tr>\n",
       "      <th>24</th>\n",
       "      <td>TXN_9980736</td>\n",
       "      <td>CUST_13</td>\n",
       "      <td>Furniture</td>\n",
       "      <td>Item_14_FUR</td>\n",
       "      <td>24.5</td>\n",
       "      <td>2.0</td>\n",
       "      <td>49.0</td>\n",
       "      <td>Cash</td>\n",
       "      <td>Online</td>\n",
       "      <td>2023-08-29</td>\n",
       "      <td>False</td>\n",
       "    </tr>\n",
       "    <tr>\n",
       "      <th>27</th>\n",
       "      <td>TXN_1599706</td>\n",
       "      <td>CUST_14</td>\n",
       "      <td>Furniture</td>\n",
       "      <td>Item_25_FUR</td>\n",
       "      <td>41.0</td>\n",
       "      <td>10.0</td>\n",
       "      <td>410.0</td>\n",
       "      <td>Credit Card</td>\n",
       "      <td>In-store</td>\n",
       "      <td>2024-03-24</td>\n",
       "      <td>True</td>\n",
       "    </tr>\n",
       "    <tr>\n",
       "      <th>37</th>\n",
       "      <td>TXN_6963438</td>\n",
       "      <td>CUST_11</td>\n",
       "      <td>Furniture</td>\n",
       "      <td>Item_10_FUR</td>\n",
       "      <td>18.5</td>\n",
       "      <td>5.0</td>\n",
       "      <td>92.5</td>\n",
       "      <td>Credit Card</td>\n",
       "      <td>Online</td>\n",
       "      <td>2024-04-23</td>\n",
       "      <td>True</td>\n",
       "    </tr>\n",
       "    <tr>\n",
       "      <th>54</th>\n",
       "      <td>TXN_8218431</td>\n",
       "      <td>CUST_01</td>\n",
       "      <td>Furniture</td>\n",
       "      <td>Item_23_FUR</td>\n",
       "      <td>38.0</td>\n",
       "      <td>5.0</td>\n",
       "      <td>190.0</td>\n",
       "      <td>Digital Wallet</td>\n",
       "      <td>Online</td>\n",
       "      <td>2023-04-29</td>\n",
       "      <td>False</td>\n",
       "    </tr>\n",
       "  </tbody>\n",
       "</table>\n",
       "</div>"
      ],
      "text/plain": [
       "   Transaction ID Customer ID   Category         Item  Price Per Unit  \\\n",
       "8     TXN_9728486     CUST_23  Furniture  Item_16_FUR            27.5   \n",
       "24    TXN_9980736     CUST_13  Furniture  Item_14_FUR            24.5   \n",
       "27    TXN_1599706     CUST_14  Furniture  Item_25_FUR            41.0   \n",
       "37    TXN_6963438     CUST_11  Furniture  Item_10_FUR            18.5   \n",
       "54    TXN_8218431     CUST_01  Furniture  Item_23_FUR            38.0   \n",
       "\n",
       "    Quantity  Total Spent  Payment Method  Location Transaction Date  \\\n",
       "8        1.0         27.5     Credit Card  In-store       2023-04-26   \n",
       "24       2.0         49.0            Cash    Online       2023-08-29   \n",
       "27      10.0        410.0     Credit Card  In-store       2024-03-24   \n",
       "37       5.0         92.5     Credit Card    Online       2024-04-23   \n",
       "54       5.0        190.0  Digital Wallet    Online       2023-04-29   \n",
       "\n",
       "   Discount Applied  \n",
       "8             False  \n",
       "24            False  \n",
       "27             True  \n",
       "37             True  \n",
       "54            False  "
      ]
     },
     "execution_count": 71,
     "metadata": {},
     "output_type": "execute_result"
    }
   ],
   "source": [
    "# Menampilkan informasi dengan kategory 'Furniture'\n",
    "df[df['Category'] == 'Furniture'].head()"
   ]
  },
  {
   "cell_type": "code",
   "execution_count": null,
   "id": "f84c8d9a",
   "metadata": {},
   "outputs": [
    {
     "data": {
      "text/html": [
       "<div>\n",
       "<style scoped>\n",
       "    .dataframe tbody tr th:only-of-type {\n",
       "        vertical-align: middle;\n",
       "    }\n",
       "\n",
       "    .dataframe tbody tr th {\n",
       "        vertical-align: top;\n",
       "    }\n",
       "\n",
       "    .dataframe thead th {\n",
       "        text-align: right;\n",
       "    }\n",
       "</style>\n",
       "<table border=\"1\" class=\"dataframe\">\n",
       "  <thead>\n",
       "    <tr style=\"text-align: right;\">\n",
       "      <th></th>\n",
       "      <th>Location</th>\n",
       "    </tr>\n",
       "    <tr>\n",
       "      <th>Location</th>\n",
       "      <th></th>\n",
       "    </tr>\n",
       "  </thead>\n",
       "  <tbody>\n",
       "    <tr>\n",
       "      <th>In-store</th>\n",
       "      <td>5617</td>\n",
       "    </tr>\n",
       "    <tr>\n",
       "      <th>Online</th>\n",
       "      <td>5745</td>\n",
       "    </tr>\n",
       "  </tbody>\n",
       "</table>\n",
       "</div>"
      ],
      "text/plain": [
       "          Location\n",
       "Location          \n",
       "In-store      5617\n",
       "Online        5745"
      ]
     },
     "execution_count": 72,
     "metadata": {},
     "output_type": "execute_result"
    }
   ],
   "source": [
    "# Menampilkan persentase penjualan online dan in-store\n",
    "# Base data\n",
    "trx_Location = df.groupby('Location').agg({'Location':'count'})\n",
    "\n",
    "trx_Location"
   ]
  },
  {
   "cell_type": "code",
   "execution_count": null,
   "id": "2111b9fe",
   "metadata": {},
   "outputs": [
    {
     "data": {
      "image/png": "[encoded data removed]",
      "text/plain": [
       "<Figure size 500x500 with 1 Axes>"
      ]
     },
     "metadata": {},
     "output_type": "display_data"
    }
   ],
   "source": [
    "# Pie chart using pandas\n",
    "trx_Location.plot(kind='pie', y='Location', figsize=(5,5), autopct='%1.2f%%')\n",
    "\n",
    "# Show\n",
    "plt.show()"
   ]
  },
  {
   "cell_type": "markdown",
   "id": "09a4a903",
   "metadata": {},
   "source": [
    "Result\n",
    "- Dilihat dari pie chart diatas, dapat diketahui bahwa penjualan terbanyak itu dilakukan secara online"
   ]
  },
  {
   "cell_type": "markdown",
   "id": "faf1860d",
   "metadata": {},
   "source": [
    "---"
   ]
  },
  {
   "cell_type": "markdown",
   "id": "8a670e97",
   "metadata": {},
   "source": [
    "### **D.1.4 - Task 4 : Bagaimana kondisi penjualan dari tahun ke tahun ?**"
   ]
  },
  {
   "cell_type": "code",
   "execution_count": null,
   "id": "f118c2b7",
   "metadata": {},
   "outputs": [],
   "source": [
    "# Cleaning, convert into datetime\n",
    "df['Transaction Date'] = pd.to_datetime(df['Transaction Date'])"
   ]
  },
  {
   "cell_type": "code",
   "execution_count": null,
   "id": "677cb3a4",
   "metadata": {},
   "outputs": [
    {
     "data": {
      "text/plain": [
       "Transaction Date\n",
       "2022-01-01    1642.5\n",
       "2022-01-02    1135.5\n",
       "2022-01-03     823.0\n",
       "2022-01-04    1082.5\n",
       "2022-01-05    2227.5\n",
       "               ...  \n",
       "2025-01-14     900.0\n",
       "2025-01-15     822.0\n",
       "2025-01-16    1379.5\n",
       "2025-01-17    1347.0\n",
       "2025-01-18     921.5\n",
       "Name: Total Spent, Length: 1114, dtype: float64"
      ]
     },
     "execution_count": 75,
     "metadata": {},
     "output_type": "execute_result"
    }
   ],
   "source": [
    "# Menampilkan line chart penjualan\n",
    "# Base data\n",
    "sales_data = df.groupby('Transaction Date')['Total Spent'].sum()\n",
    "\n",
    "sales_data"
   ]
  },
  {
   "cell_type": "code",
   "execution_count": null,
   "id": "2b4d63dd",
   "metadata": {},
   "outputs": [
    {
     "data": {
      "image/png": "[encoded data removed]",
      "text/plain": [
       "<Figure size 1200x500 with 1 Axes>"
      ]
     },
     "metadata": {},
     "output_type": "display_data"
    }
   ],
   "source": [
    "# New base data, monthly\n",
    "monthly_sales = df.groupby(pd.Grouper(key='Transaction Date', freq='ME'))['Total Spent'].sum()\n",
    "\n",
    "# Visual\n",
    "monthly_sales.plot(kind='line', figsize=(12,5))\n",
    "plt.show()"
   ]
  },
  {
   "cell_type": "markdown",
   "id": "8d1b4a35",
   "metadata": {},
   "source": [
    "Result\n",
    "- Dilihat dari line chart terjadi penurunan penjualan dari tahun 2022 sampai 2025"
   ]
  },
  {
   "cell_type": "markdown",
   "id": "665b5e9b",
   "metadata": {},
   "source": [
    "---"
   ]
  },
  {
   "cell_type": "markdown",
   "id": "0c44d611",
   "metadata": {},
   "source": [
    "## **D.2 ANALYSIS**"
   ]
  },
  {
   "cell_type": "markdown",
   "id": "e9c0913d",
   "metadata": {},
   "source": [
    "### **D.2.1 - Statistik Deskriptif**"
   ]
  },
  {
   "cell_type": "markdown",
   "id": "52dbf151",
   "metadata": {},
   "source": [
    "- Melakukan perhitungan Central Tendency dengan menghitung rata-rata, median, standar deviasi, skewness dan kurtosis dari kolom Price Per Unit, Quantity, dan Total Spent"
   ]
  },
  {
   "cell_type": "code",
   "execution_count": null,
   "id": "2dc92e00",
   "metadata": {},
   "outputs": [
    {
     "name": "stdout",
     "output_type": "stream",
     "text": [
      "Nilai rata rata dari Price Per Unit $ 23.35684738602359\n",
      "Nilai rata rata dari Quantity 5.535029044182362\n",
      "Nilai rata rata dari Total Spent $ 129.64253652525963\n"
     ]
    }
   ],
   "source": [
    "# Nilai rata-rata\n",
    "print('Nilai rata rata dari Price Per Unit', '$', df['Price Per Unit'].mean())\n",
    "print('Nilai rata rata dari Quantity', df['Quantity'].mean())\n",
    "print('Nilai rata rata dari Total Spent', '$', df['Total Spent'].mean())\n"
   ]
  },
  {
   "cell_type": "markdown",
   "id": "9a1520bb",
   "metadata": {},
   "source": [
    "- Nilai rata rata dari Price Per Unit sebesar usd 23.356, Quantity sebanyak 5 dan Total Spent sebesar usd 129.64  "
   ]
  },
  {
   "cell_type": "code",
   "execution_count": null,
   "id": "46d71849",
   "metadata": {},
   "outputs": [
    {
     "name": "stdout",
     "output_type": "stream",
     "text": [
      "Median dari Price Per Unit $ 23.0\n",
      "Median dari Quantity 6.0\n",
      "Median dari Total Spent $ 108.5\n"
     ]
    }
   ],
   "source": [
    "# Median \n",
    "print('Median dari Price Per Unit','$', df['Price Per Unit'].median())\n",
    "print('Median dari Quantity', df['Quantity'].median())\n",
    "print('Median dari Total Spent', '$',df['Total Spent'].median() )"
   ]
  },
  {
   "cell_type": "markdown",
   "id": "2f146e51",
   "metadata": {},
   "source": [
    "- Median dari Price Per Unit sebesar usd 23, Quantity sebanyak 6 dan Total Spent sebesar usd 108.5"
   ]
  },
  {
   "cell_type": "code",
   "execution_count": null,
   "id": "784baadb",
   "metadata": {},
   "outputs": [
    {
     "name": "stdout",
     "output_type": "stream",
     "text": [
      "Standar Deviasi dari Price Per Unit adalah $ 10.736029859416066\n",
      "Standar Deviasi dari Quantity sebanyak 2.855165914680518\n",
      "Standar Deviasi dari Total Spent $ 94.66236817183733\n"
     ]
    }
   ],
   "source": [
    "# Standar deviasi\n",
    "print('Standar Deviasi dari Price Per Unit adalah','$', df['Price Per Unit'].std())\n",
    "print('Standar Deviasi dari Quantity sebanyak', df['Quantity'].std())\n",
    "print('Standar Deviasi dari Total Spent', '$', df['Total Spent'].std())"
   ]
  },
  {
   "cell_type": "markdown",
   "id": "211cfbe8",
   "metadata": {},
   "source": [
    "- Standar deviasi dari Price Per Unit sebesar usd 10.73, Quantity sebanyak 2 dan Total Spent sebesar usd 94.66"
   ]
  },
  {
   "cell_type": "code",
   "execution_count": null,
   "id": "eb2781a3",
   "metadata": {},
   "outputs": [
    {
     "name": "stdout",
     "output_type": "stream",
     "text": [
      "Skewness Price Per Unit: -0.033977574264265314\n",
      "Skewness Quantity: -0.009681344941237275\n",
      "Skewness Total Spent: 0.8311398073219372\n"
     ]
    }
   ],
   "source": [
    "# Skewness\n",
    "print(f\"Skewness Price Per Unit: {df['Price Per Unit'].skew()}\")\n",
    "print(f\"Skewness Quantity: {df['Quantity'].skew()}\")\n",
    "print(f\"Skewness Total Spent: {df['Total Spent'].skew()}\")"
   ]
  },
  {
   "cell_type": "code",
   "execution_count": 81,
   "id": "9a161aa4",
   "metadata": {},
   "outputs": [
    {
     "data": {
      "image/png": "[encoded data removed]",
      "text/plain": [
       "<Figure size 1000x400 with 2 Axes>"
      ]
     },
     "metadata": {},
     "output_type": "display_data"
    }
   ],
   "source": [
    "fig, ax = plt.subplots(ncols=2,figsize=(10,4))\n",
    "\n",
    "df['Price Per Unit'].plot(kind='hist',bins=20,ax=ax[0])\n",
    "df['Price Per Unit'].plot(kind='box',ax=ax[1])\n",
    "plt.show()"
   ]
  },
  {
   "cell_type": "markdown",
   "id": "18b0d1d1",
   "metadata": {},
   "source": [
    "Apakah distribusi data yang didapatkan sudah normal ?"
   ]
  },
  {
   "cell_type": "markdown",
   "id": "2a79cea0",
   "metadata": {},
   "source": [
    "- Nilai Skewness dari Price Per Unit  -0.033977574264265314, Quantity -0.009681344941237275 dan Total Spent 0.8311398073219372. Jika kemiringan berada di antara -1 dan -0,5 atau antara 0,5 dan 1, distribusinya memiliki moderately skewed."
   ]
  },
  {
   "cell_type": "code",
   "execution_count": null,
   "id": "3756b3f1",
   "metadata": {},
   "outputs": [
    {
     "name": "stdout",
     "output_type": "stream",
     "text": [
      "Kurtosis Price Per Unit: -1.1660306420887059\n",
      "Kurtosis Quantity: -1.202713863580593\n",
      "Kurtosis Total Spent: -0.10418049973420684\n"
     ]
    }
   ],
   "source": [
    "# Kurtosis \n",
    "print(f\"Kurtosis Price Per Unit: {df['Price Per Unit'].kurtosis()}\")\n",
    "print(f\"Kurtosis Quantity: {df['Quantity'].kurtosis()}\")\n",
    "print(f\"Kurtosis Total Spent: {df['Total Spent'].kurtosis()}\")"
   ]
  },
  {
   "cell_type": "markdown",
   "id": "f2b94cc5",
   "metadata": {},
   "source": [
    "- Nilai Kurtosis dari Price Per Unit -1.1660306420887059, Quantity -1.202713863580593 dan Total Spent -0.10418049973420684 Ini menunjukkan lebih sedikit outlier atau nilai ekstrem daripada distribusi normal. Nilai kurtosis yang kurang dari nol menunjukkan distribusi platykurtic."
   ]
  },
  {
   "cell_type": "markdown",
   "id": "b36d2e03",
   "metadata": {},
   "source": [
    "### **D.2.2 - Statistik Inferensial**"
   ]
  },
  {
   "cell_type": "markdown",
   "id": "b4a47ebc",
   "metadata": {},
   "source": [
    "#### **D.2.2.1 - Task 1 : Berapa potensi minimum dan maksimum penjualan yang didapat Retail Cabang ?**"
   ]
  },
  {
   "cell_type": "code",
   "execution_count": null,
   "id": "5555e4fa",
   "metadata": {},
   "outputs": [
    {
     "data": {
      "text/html": [
       "<div>\n",
       "<style scoped>\n",
       "    .dataframe tbody tr th:only-of-type {\n",
       "        vertical-align: middle;\n",
       "    }\n",
       "\n",
       "    .dataframe tbody tr th {\n",
       "        vertical-align: top;\n",
       "    }\n",
       "\n",
       "    .dataframe thead th {\n",
       "        text-align: right;\n",
       "    }\n",
       "</style>\n",
       "<table border=\"1\" class=\"dataframe\">\n",
       "  <thead>\n",
       "    <tr style=\"text-align: right;\">\n",
       "      <th></th>\n",
       "      <th>Transaction ID</th>\n",
       "      <th>Customer ID</th>\n",
       "      <th>Category</th>\n",
       "      <th>Item</th>\n",
       "      <th>Price Per Unit</th>\n",
       "      <th>Quantity</th>\n",
       "      <th>Total Spent</th>\n",
       "      <th>Payment Method</th>\n",
       "      <th>Location</th>\n",
       "      <th>Transaction Date</th>\n",
       "      <th>Discount Applied</th>\n",
       "    </tr>\n",
       "  </thead>\n",
       "  <tbody>\n",
       "    <tr>\n",
       "      <th>0</th>\n",
       "      <td>TXN_6867343</td>\n",
       "      <td>CUST_09</td>\n",
       "      <td>Patisserie</td>\n",
       "      <td>Item_10_PAT</td>\n",
       "      <td>18.5</td>\n",
       "      <td>10.0</td>\n",
       "      <td>185.0</td>\n",
       "      <td>Digital Wallet</td>\n",
       "      <td>Online</td>\n",
       "      <td>2024-04-08</td>\n",
       "      <td>True</td>\n",
       "    </tr>\n",
       "    <tr>\n",
       "      <th>1</th>\n",
       "      <td>TXN_3731986</td>\n",
       "      <td>CUST_22</td>\n",
       "      <td>Milk Products</td>\n",
       "      <td>Item_17_MILK</td>\n",
       "      <td>29.0</td>\n",
       "      <td>9.0</td>\n",
       "      <td>261.0</td>\n",
       "      <td>Digital Wallet</td>\n",
       "      <td>Online</td>\n",
       "      <td>2023-07-23</td>\n",
       "      <td>True</td>\n",
       "    </tr>\n",
       "    <tr>\n",
       "      <th>2</th>\n",
       "      <td>TXN_9303719</td>\n",
       "      <td>CUST_02</td>\n",
       "      <td>Butchers</td>\n",
       "      <td>Item_12_BUT</td>\n",
       "      <td>21.5</td>\n",
       "      <td>2.0</td>\n",
       "      <td>43.0</td>\n",
       "      <td>Credit Card</td>\n",
       "      <td>Online</td>\n",
       "      <td>2022-10-05</td>\n",
       "      <td>False</td>\n",
       "    </tr>\n",
       "    <tr>\n",
       "      <th>3</th>\n",
       "      <td>TXN_9458126</td>\n",
       "      <td>CUST_06</td>\n",
       "      <td>Beverages</td>\n",
       "      <td>Item_16_BEV</td>\n",
       "      <td>27.5</td>\n",
       "      <td>9.0</td>\n",
       "      <td>247.5</td>\n",
       "      <td>Credit Card</td>\n",
       "      <td>Online</td>\n",
       "      <td>2022-05-07</td>\n",
       "      <td>unknown</td>\n",
       "    </tr>\n",
       "    <tr>\n",
       "      <th>4</th>\n",
       "      <td>TXN_4575373</td>\n",
       "      <td>CUST_05</td>\n",
       "      <td>Food</td>\n",
       "      <td>Item_6_FOOD</td>\n",
       "      <td>12.5</td>\n",
       "      <td>7.0</td>\n",
       "      <td>87.5</td>\n",
       "      <td>Digital Wallet</td>\n",
       "      <td>Online</td>\n",
       "      <td>2022-10-02</td>\n",
       "      <td>False</td>\n",
       "    </tr>\n",
       "  </tbody>\n",
       "</table>\n",
       "</div>"
      ],
      "text/plain": [
       "  Transaction ID Customer ID       Category          Item  Price Per Unit  \\\n",
       "0    TXN_6867343     CUST_09     Patisserie   Item_10_PAT            18.5   \n",
       "1    TXN_3731986     CUST_22  Milk Products  Item_17_MILK            29.0   \n",
       "2    TXN_9303719     CUST_02       Butchers   Item_12_BUT            21.5   \n",
       "3    TXN_9458126     CUST_06      Beverages   Item_16_BEV            27.5   \n",
       "4    TXN_4575373     CUST_05           Food   Item_6_FOOD            12.5   \n",
       "\n",
       "   Quantity  Total Spent  Payment Method Location Transaction Date  \\\n",
       "0      10.0        185.0  Digital Wallet   Online       2024-04-08   \n",
       "1       9.0        261.0  Digital Wallet   Online       2023-07-23   \n",
       "2       2.0         43.0     Credit Card   Online       2022-10-05   \n",
       "3       9.0        247.5     Credit Card   Online       2022-05-07   \n",
       "4       7.0         87.5  Digital Wallet   Online       2022-10-02   \n",
       "\n",
       "  Discount Applied  \n",
       "0             True  \n",
       "1             True  \n",
       "2            False  \n",
       "3          unknown  \n",
       "4            False  "
      ]
     },
     "execution_count": 83,
     "metadata": {},
     "output_type": "execute_result"
    }
   ],
   "source": [
    "# Confidence interval\n",
    "df_1 = df[(df['Quantity']>0) & (df['Price Per Unit']>0)]\n",
    "df_1.head()"
   ]
  },
  {
   "cell_type": "code",
   "execution_count": 84,
   "id": "3f9267fd",
   "metadata": {},
   "outputs": [
    {
     "data": {
      "text/html": [
       "<div>\n",
       "<style scoped>\n",
       "    .dataframe tbody tr th:only-of-type {\n",
       "        vertical-align: middle;\n",
       "    }\n",
       "\n",
       "    .dataframe tbody tr th {\n",
       "        vertical-align: top;\n",
       "    }\n",
       "\n",
       "    .dataframe thead th {\n",
       "        text-align: right;\n",
       "    }\n",
       "</style>\n",
       "<table border=\"1\" class=\"dataframe\">\n",
       "  <thead>\n",
       "    <tr style=\"text-align: right;\">\n",
       "      <th></th>\n",
       "      <th>Quantity</th>\n",
       "    </tr>\n",
       "    <tr>\n",
       "      <th>Category</th>\n",
       "      <th></th>\n",
       "    </tr>\n",
       "  </thead>\n",
       "  <tbody>\n",
       "    <tr>\n",
       "      <th>Beverages</th>\n",
       "      <td>7974.0</td>\n",
       "    </tr>\n",
       "    <tr>\n",
       "      <th>Butchers</th>\n",
       "      <td>7774.0</td>\n",
       "    </tr>\n",
       "    <tr>\n",
       "      <th>Computers and electric accessories</th>\n",
       "      <td>7832.0</td>\n",
       "    </tr>\n",
       "    <tr>\n",
       "      <th>Electric household essentials</th>\n",
       "      <td>7897.0</td>\n",
       "    </tr>\n",
       "    <tr>\n",
       "      <th>Food</th>\n",
       "      <td>7925.0</td>\n",
       "    </tr>\n",
       "  </tbody>\n",
       "</table>\n",
       "</div>"
      ],
      "text/plain": [
       "                                    Quantity\n",
       "Category                                    \n",
       "Beverages                             7974.0\n",
       "Butchers                              7774.0\n",
       "Computers and electric accessories    7832.0\n",
       "Electric household essentials         7897.0\n",
       "Food                                  7925.0"
      ]
     },
     "execution_count": 84,
     "metadata": {},
     "output_type": "execute_result"
    }
   ],
   "source": [
    "stock = df_1[['Category','Quantity']].groupby('Category').sum()\n",
    "stock.head()"
   ]
  },
  {
   "cell_type": "code",
   "execution_count": 85,
   "id": "37152e43",
   "metadata": {},
   "outputs": [
    {
     "name": "stdout",
     "output_type": "stream",
     "text": [
      "Average = 7861.125\n",
      "Minimum = 7515.0\n",
      "Maximum = 8083.0\n"
     ]
    }
   ],
   "source": [
    "print('Average =',stock['Quantity'].mean())\n",
    "print('Minimum =',stock['Quantity'].min())\n",
    "print('Maximum =',stock['Quantity'].max())"
   ]
  },
  {
   "cell_type": "code",
   "execution_count": null,
   "id": "d41e67b0",
   "metadata": {},
   "outputs": [
    {
     "name": "stdout",
     "output_type": "stream",
     "text": [
      "Lower Limit: 7745.067042914892\n",
      "Upper Limit: 7977.182957085108\n"
     ]
    }
   ],
   "source": [
    "# Menghitung confidence interval dengan confidence level 95%\n",
    "std = stock['Quantity'].std()\n",
    "N = len(stock)\n",
    "low, up = stats.norm.interval(0.95,loc=stock['Quantity'].mean(),scale=std/np.sqrt(N))\n",
    "print('Lower Limit:',low)\n",
    "print('Upper Limit:',up)"
   ]
  },
  {
   "cell_type": "markdown",
   "id": "0cd63204",
   "metadata": {},
   "source": [
    "Result\n",
    "- Menggunakan confidence interval untuk mendapatkan lower value dan upper value dari distribusi populasi penjualan. Confidence level yang dipakai sebesar 95%.\n",
    "- Jadi potensi minimum dan maksimum penjualan yang akan diperoleh yaitu Lower Limit: 7745 dan Upper Limit: 7977 "
   ]
  },
  {
   "cell_type": "markdown",
   "id": "71285ca9",
   "metadata": {},
   "source": [
    "#### **D.2.2.2 - Task 2 : Apakah terdapat perbedaan yang signifikan pada ketiga kategori penerapan diskon ?**"
   ]
  },
  {
   "cell_type": "markdown",
   "id": "f70d1d13",
   "metadata": {},
   "source": [
    "Uji hipotesis \n",
    "- H0: Tidak terdapat perbedaan total penjualan yang signifikan pada ketiga kategori penerapan diskon\n",
    "- H1: Terdapat perbedaan total penjualan yang signifikan pada ketiga kategori penerapan diskon"
   ]
  },
  {
   "cell_type": "markdown",
   "id": "1289471b",
   "metadata": {},
   "source": [
    "- Uji hipotesis ini akan menggunakan metode analisa ANOVA (Analysis of Variance) untuk membandingkan rata-rata tiga kelompok atau lebih. "
   ]
  },
  {
   "cell_type": "code",
   "execution_count": null,
   "id": "a67b0111",
   "metadata": {},
   "outputs": [
    {
     "data": {
      "text/plain": [
       "Discount Applied\n",
       "True       3801\n",
       "unknown    3783\n",
       "False      3778\n",
       "Name: count, dtype: int64"
      ]
     },
     "execution_count": 87,
     "metadata": {},
     "output_type": "execute_result"
    }
   ],
   "source": [
    "# Perbandingan penerapan diskon\n",
    "df['Discount Applied'].value_counts()"
   ]
  },
  {
   "cell_type": "code",
   "execution_count": null,
   "id": "3b957d8b",
   "metadata": {},
   "outputs": [
    {
     "data": {
      "text/plain": [
       "Category                            Discount Applied\n",
       "Beverages                           unknown             507\n",
       "                                    True                471\n",
       "                                    False               449\n",
       "Butchers                            True                486\n",
       "                                    False               471\n",
       "                                    unknown             464\n",
       "Computers and electric accessories  False               493\n",
       "                                    True                480\n",
       "                                    unknown             424\n",
       "Electric household essentials       unknown             488\n",
       "                                    False               478\n",
       "                                    True                471\n",
       "Food                                False               503\n",
       "                                    unknown             474\n",
       "                                    True                449\n",
       "Furniture                           unknown             522\n",
       "                                    True                492\n",
       "                                    False               446\n",
       "Milk Products                       False               496\n",
       "                                    True                483\n",
       "                                    unknown             446\n",
       "Patisserie                          True                469\n",
       "                                    unknown             458\n",
       "                                    False               442\n",
       "Name: count, dtype: int64"
      ]
     },
     "execution_count": 88,
     "metadata": {},
     "output_type": "execute_result"
    }
   ],
   "source": [
    "# Perbandingan penerapan diskon dengan kategori\n",
    "df.groupby('Category')[['Discount Applied']].value_counts()"
   ]
  },
  {
   "cell_type": "code",
   "execution_count": 89,
   "id": "13e5f69a",
   "metadata": {},
   "outputs": [],
   "source": [
    "# Extracting Total Spent data for each category --> diperlukan untuk ANOVA\n",
    "\n",
    "applied = df['Total Spent'][(df['Discount Applied']==True) ]\n",
    "not_applied = df['Total Spent'][df['Discount Applied']==False]\n",
    "unknown = df['Total Spent'][df['Discount Applied']=='unknown']"
   ]
  },
  {
   "cell_type": "code",
   "execution_count": 90,
   "id": "4357630b",
   "metadata": {},
   "outputs": [
    {
     "name": "stdout",
     "output_type": "stream",
     "text": [
      "Rata-rata total penjualan ketika menerapkan diskon: 130.72\n",
      "Rata-rata total penjualan ketika tidak menerapkan diskon: 130.13\n",
      "Rata-rata total penjualan ketika tidak menginput diskon: 128.07\n"
     ]
    }
   ],
   "source": [
    "print(f'Rata-rata total penjualan ketika menerapkan diskon: {applied.mean():.2f}')\n",
    "print(f'Rata-rata total penjualan ketika tidak menerapkan diskon: {not_applied.mean():.2f}')\n",
    "print(f'Rata-rata total penjualan ketika tidak menginput diskon: {unknown.mean():.2f}')"
   ]
  },
  {
   "cell_type": "code",
   "execution_count": 91,
   "id": "a57a89f3",
   "metadata": {},
   "outputs": [
    {
     "name": "stdout",
     "output_type": "stream",
     "text": [
      "P-value: 0.44020403921767093\n"
     ]
    }
   ],
   "source": [
    "res = stats.f_oneway(applied, not_applied, unknown)\n",
    "print('P-value:',res.pvalue)"
   ]
  },
  {
   "cell_type": "markdown",
   "id": "8577cb49",
   "metadata": {},
   "source": [
    "- H0 : Tidak terdapat perbedaan total penjualan yang signifikan pada ketiga kategori penerapan diskon\n",
    "- H1 : Terdapat perbedaan total penjualan yang signifikan pada ketiga kategori penerapan diskon"
   ]
  },
  {
   "cell_type": "markdown",
   "id": "4e3c43fc",
   "metadata": {},
   "source": [
    "- Nilai p lebih dari 0,05, sehingga H0 kita diterima yang artinya penerapan diskon tidak mempengaruhi total penjualan secara signifikan."
   ]
  },
  {
   "cell_type": "markdown",
   "id": "0e02b377",
   "metadata": {},
   "source": [
    "# **E. Conclusion**"
   ]
  },
  {
   "cell_type": "markdown",
   "id": "490df999",
   "metadata": {},
   "source": [
    "- Penjualan tertinggi berasal dari kategori Butchers, disusul oleh Electric Household Essentials, dan Beverages. Ini menunjukkan bahwa produk kebutuhan rumah tangga dan makanan/minuman masih menjadi primadona dalam transaksi penjualan.\n",
    "- Sebagian besar penjualan dilakukan secara online, sebagaimana terlihat dari diagram pie. Ini menandakan preferensi konsumen yang semakin kuat terhadap platform digital.\n",
    "- Berdasarkan line chart, terjadi penurunan tren penjualan dari tahun 2022 hingga 2025, yang mengindikasikan adanya penurunan performa atau perubahan preferensi pasar.\n",
    "- Estimasi potensi penjualan dalam rentang Lower Limit: 7745 hingga Upper Limit: 7977 mencerminkan stabilitas, tetapi juga menunjukkan ruang terbatas untuk pertumbuhan jika tidak ada perubahan strategi.\n",
    "- Hasil analisis menunjukkan bahwa penerapan diskon tidak memberikan pengaruh signifikan terhadap total penjualan. Artinya, diskon bukanlah faktor utama yang mendorong keputusan pembelian."
   ]
  },
  {
   "cell_type": "markdown",
   "id": "51c31f41",
   "metadata": {},
   "source": [
    "# **F. Recommendation**"
   ]
  },
  {
   "cell_type": "markdown",
   "id": "6c0ad149",
   "metadata": {},
   "source": [
    "- Efektivitas diskon perlu dievaluasi kembali dan fokus pada strategi non-diskon. Pertimbangkan pendekatan lain seperti bundling produk, loyalty program, atau peningkatan layanan pelanggan karena diskon saja tidak cukup efektif\n",
    "- Tingkatkan stok dan promosi pada kategori Butchers, Electronic Household Essentials, dan Beverages, karena ketiganya terbukti menjadi kontributor utama penjualan\n",
    "- Karena penjualan terbanyak berasal dari kanal online, penting untuk memperkuat strategi digital\n",
    "- Tanggapi penurunan tren penjualan, lakukan evaluasi menyeluruh terhadap penurunan penjualan dari tahun ke tahun. Identifikasi faktor eksternal (seperti ekonomi, pesaing) maupun internal (kualitas produk, layanan pelanggan) yang mungkin menjadi penyebab\n",
    "- Tambahkan variasi produk baru yang selaras dengan kategori terlaris dan lakukan riset pasar untuk mengidentifikasi kebutuhan konsumen yang belum terpenuhi\n"
   ]
  }
 ],
 "metadata": {
  "kernelspec": {
   "display_name": "h8_env",
   "language": "python",
   "name": "python3"
  },
  "language_info": {
   "codemirror_mode": {
    "name": "ipython",
    "version": 3
   },
   "file_extension": ".py",
   "mimetype": "text/x-python",
   "name": "python",
   "nbconvert_exporter": "python",
   "pygments_lexer": "ipython3",
   "version": "3.9.23"
  }
 },
 "nbformat": 4,
 "nbformat_minor": 5
}
